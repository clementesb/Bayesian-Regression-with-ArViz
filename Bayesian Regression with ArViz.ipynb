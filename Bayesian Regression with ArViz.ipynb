{
 "cells": [
  {
   "cell_type": "code",
   "execution_count": null,
   "id": "a7da155f-aa15-4c52-8563-b812443bf9fa",
   "metadata": {},
   "outputs": [],
   "source": [
    "import arviz as az\n",
    "import bambi as bmb\n",
    "import numpy as np\n",
    "import pandas as pd\n",
    "import pymc3 as pm\n",
    "import seaborn as sns\n",
    "import statsmodels.api as sm\n",
    "import pystan as stan"
   ]
  },
  {
   "cell_type": "code",
   "execution_count": null,
   "id": "1ddf2649-aae5-4290-aed8-b9ecfb10e898",
   "metadata": {},
   "outputs": [],
   "source": [
    "df = pd.read_csv(\"C:\\Users\\Clemente\\Desktop\\beisball_salarios.csv\")"
   ]
  },
  {
   "cell_type": "code",
   "execution_count": null,
   "id": "52cc94b2-9f04-46e8-9dde-2803141fb154",
   "metadata": {},
   "outputs": [],
   "source": [
    "df['Salary'].hist()"
   ]
  },
  {
   "cell_type": "code",
   "execution_count": null,
   "id": "13e94463-0944-4b26-87b1-a53bc66dfe92",
   "metadata": {},
   "outputs": [],
   "source": [
    "sns.pairplot(df[['AtBat','Hits','Walks','CAtBat','CRuns','CRBI','CWalks','PutOuts']])"
   ]
  },
  {
   "cell_type": "code",
   "execution_count": null,
   "id": "be50542c-63b5-47bf-b664-91560c912550",
   "metadata": {},
   "outputs": [],
   "source": [
    "model = bmb.Model(\"Salary ~ AtBat + Hits + Walks + CAtBat + CRuns + CRBI + CWalks + PutOuts\", df)\n",
    "fitted = model.fit(tune=500, draws=500, init='adapt_diag')"
   ]
  },
  {
   "cell_type": "code",
   "execution_count": null,
   "id": "e0f1bcb0-2537-41f5-8cec-b572fcfd92f3",
   "metadata": {},
   "outputs": [],
   "source": [
    "model.plot_priors()"
   ]
  },
  {
   "cell_type": "code",
   "execution_count": null,
   "id": "11b50227-79b8-4715-a7e9-0747c292e976",
   "metadata": {},
   "outputs": [],
   "source": [
    "az.plot_trace(fitted)"
   ]
  },
  {
   "cell_type": "code",
   "execution_count": null,
   "id": "c1a3bf7c-d2ea-42a5-9cff-636843229695",
   "metadata": {},
   "outputs": [],
   "source": [
    "az.summary(fitted)"
   ]
  }
 ],
 "metadata": {
  "kernelspec": {
   "display_name": "Python 3 (ipykernel)",
   "language": "python",
   "name": "python3"
  },
  "language_info": {
   "codemirror_mode": {
    "name": "ipython",
    "version": 3
   },
   "file_extension": ".py",
   "mimetype": "text/x-python",
   "name": "python",
   "nbconvert_exporter": "python",
   "pygments_lexer": "ipython3",
   "version": "3.7.13"
  }
 },
 "nbformat": 4,
 "nbformat_minor": 5
}
